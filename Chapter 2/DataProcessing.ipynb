{
 "cells": [
  {
   "cell_type": "markdown",
   "metadata": {},
   "source": [
    "生成数据"
   ]
  },
  {
   "cell_type": "code",
   "execution_count": 1,
   "metadata": {},
   "outputs": [],
   "source": [
    "import os \n",
    "os.makedirs(os.path.join(\"..\", \"data\"), exist_ok = True)\n",
    "file_name = os.path.join(\"..\", \"data\", \"house_tiny.csv\")\n",
    "with open(file_name, \"w\") as f:\n",
    "    f.write('''NumRooms,RoofType,Price\n",
    "            2,NA,100\n",
    "            NA,NA,120\n",
    "            NA,Slate,80\n",
    "            4,NA,180'''\n",
    ")\n"
   ]
  },
  {
   "cell_type": "markdown",
   "metadata": {},
   "source": [
    "读取数据"
   ]
  },
  {
   "cell_type": "code",
   "execution_count": 2,
   "metadata": {},
   "outputs": [
    {
     "name": "stdout",
     "output_type": "stream",
     "text": [
      "Intel MKL WARNING: Support of Intel(R) Streaming SIMD Extensions 4.2 (Intel(R) SSE4.2) enabled only processors has been deprecated. Intel oneAPI Math Kernel Library 2025.0 will require Intel(R) Advanced Vector Extensions (Intel(R) AVX) instructions.\n",
      "Intel MKL WARNING: Support of Intel(R) Streaming SIMD Extensions 4.2 (Intel(R) SSE4.2) enabled only processors has been deprecated. Intel oneAPI Math Kernel Library 2025.0 will require Intel(R) Advanced Vector Extensions (Intel(R) AVX) instructions.\n",
      "   NumRooms RoofType  Price\n",
      "0       2.0      NaN    100\n",
      "1       NaN      NaN    120\n",
      "2       NaN    Slate     80\n",
      "3       4.0      NaN    180\n"
     ]
    }
   ],
   "source": [
    "import pandas as pd\n",
    "data = pd.read_csv(file_name, skipinitialspace=True)\n",
    "print(data)"
   ]
  },
  {
   "cell_type": "markdown",
   "metadata": {},
   "source": [
    "dummy variable"
   ]
  },
  {
   "cell_type": "code",
   "execution_count": 3,
   "metadata": {},
   "outputs": [
    {
     "name": "stdout",
     "output_type": "stream",
     "text": [
      "   NumRooms  RoofType_Slate  RoofType_nan\n",
      "0       2.0           False          True\n",
      "1       NaN           False          True\n",
      "2       NaN            True         False\n",
      "3       4.0           False          True\n"
     ]
    }
   ],
   "source": [
    "inputs, target = data.iloc[:, 0:2], data.iloc[:, 2]\n",
    "inputs = pd.get_dummies(inputs, dummy_na = True)\n",
    "print(inputs)"
   ]
  },
  {
   "cell_type": "markdown",
   "metadata": {},
   "source": [
    "处理numerical variable"
   ]
  },
  {
   "cell_type": "code",
   "execution_count": 4,
   "metadata": {},
   "outputs": [
    {
     "name": "stdout",
     "output_type": "stream",
     "text": [
      "   NumRooms  RoofType_Slate  RoofType_nan\n",
      "0       2.0           False          True\n",
      "1       3.0           False          True\n",
      "2       3.0            True         False\n",
      "3       4.0           False          True\n"
     ]
    }
   ],
   "source": [
    "inputs = inputs.fillna(inputs.mean())\n",
    "print(inputs)"
   ]
  },
  {
   "cell_type": "markdown",
   "metadata": {},
   "source": [
    "变成torch tensor"
   ]
  },
  {
   "cell_type": "code",
   "execution_count": 6,
   "metadata": {},
   "outputs": [
    {
     "data": {
      "text/plain": [
       "(tensor([[2., 0., 1.],\n",
       "         [3., 0., 1.],\n",
       "         [3., 1., 0.],\n",
       "         [4., 0., 1.]], dtype=torch.float64),\n",
       " tensor([100., 120.,  80., 180.], dtype=torch.float64))"
      ]
     },
     "execution_count": 6,
     "metadata": {},
     "output_type": "execute_result"
    }
   ],
   "source": [
    "import torch\n",
    "\n",
    "X = torch.tensor(inputs.to_numpy(dtype = float))\n",
    "y = torch.tensor(target.to_numpy(dtype = float))\n",
    "X, y"
   ]
  },
  {
   "cell_type": "markdown",
   "metadata": {},
   "source": [
    "Summary：\n",
    "这一节学习了怎么用pandas写入简单的数据，处理dummy variable和mumerical variable, \n",
    "注意space和换行在pandas处理时候可能会让NA值识别不出来成NaN，以及get_dummies只处理categorical variable，不处理numerical variable。\n",
    "注意fillna是numpy的method，get_dummies是pandas的库函数（这里method和函数不知道是不是正确的描述）"
   ]
  }
 ],
 "metadata": {
  "kernelspec": {
   "display_name": "base",
   "language": "python",
   "name": "python3"
  },
  "language_info": {
   "codemirror_mode": {
    "name": "ipython",
    "version": 3
   },
   "file_extension": ".py",
   "mimetype": "text/x-python",
   "name": "python",
   "nbconvert_exporter": "python",
   "pygments_lexer": "ipython3",
   "version": "3.9.18"
  }
 },
 "nbformat": 4,
 "nbformat_minor": 2
}
